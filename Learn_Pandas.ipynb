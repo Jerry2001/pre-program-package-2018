{
 "cells": [
  {
   "cell_type": "markdown",
   "metadata": {},
   "source": [
    "# Giới thiệu cách sử dụng thư viện Pandas\n",
    "Trong bài học này, chúng ta sẽ tìm hiểu về thư viện Pandas - mảnh ghép cuối cùng trong những thư viện cơ bản cần thiết để chuẩn bị cho MaSSP 2018!"
   ]
  },
  {
   "cell_type": "markdown",
   "metadata": {},
   "source": [
    "## 1. Pandas là gì?\n",
    "Khi làm việc với một bảng dữ liệu, chúng ta thường sử dụng những phần mềm như Microsoft Excel để nhanh chóng thực hiện các thao tác như sắp xếp dữ liệu, vẽ biểu đồ, thực hiện tính toán...\n",
    "\n",
    "!['Google Spreadsheet'](images/google_spreadsheet.png)"
   ]
  },
  {
   "cell_type": "markdown",
   "metadata": {},
   "source": [
    "Tuy nhiên, các công cụ này chỉ phù hợp khi làm việc với khối lượng dữ liệu nhỏ. Với những dataset lớn, chúng ta cần những công cụ chuyên dụng hơn, ví dụ như Pandas.\n",
    "\n",
    "Pandas là một thư viện mã nguồn mở giúp các thao tác khi làm việc với cấu trúc dữ liệu dạng bảng trở nên dễ dàng hơn. Trang chủ của Pandas: http://pandas.pydata.org/pandas-docs/stable/.\n",
    "\n",
    "Trong bài này, các bạn sẽ học các nội dung sau trên dataset trong file \"Thời tiết Hà Nội.csv\".\n",
    "* Cấu trúc dữ liệu trong Pandas\n",
    "    - Series\n",
    "    - Dataframe \n",
    "* Xử lý dữ liệu đầu vào\n",
    "    - Nhập dữ liệu từ .csv\n",
    "    - Lấy số liệu từ các hàng, cột\n",
    "    - Xử lý số liệu bị thiếu\n",
    "* Chuyển đổi dữ liệu\n",
    "    - Tính trung bình\n",
    "    - Tính tổng\n",
    "    - Phép tính lên nhiều Series\n",
    "* Vẽ đồ thị\n",
    "* Xuất dữ liệu\n",
    "\n",
    "Trước hết, hãy nhập những thư viện cần dùng trong bài này."
   ]
  },
  {
   "cell_type": "code",
   "execution_count": 1,
   "metadata": {
    "collapsed": true
   },
   "outputs": [],
   "source": [
    "import pandas as pd\n",
    "import matplotlib.pyplot as plt"
   ]
  },
  {
   "cell_type": "markdown",
   "metadata": {},
   "source": [
    "## 2. Cấu trúc dữ liệu trong Pandas\n",
    "Có 2 dạng cấu trúc dữ liệu quan trọng trong Pandas: Series và Dataframe. "
   ]
  },
  {
   "cell_type": "code",
   "execution_count": 2,
   "metadata": {},
   "outputs": [
    {
     "data": {
      "text/html": [
       "<div>\n",
       "<style>\n",
       "    .dataframe thead tr:only-child th {\n",
       "        text-align: right;\n",
       "    }\n",
       "\n",
       "    .dataframe thead th {\n",
       "        text-align: left;\n",
       "    }\n",
       "\n",
       "    .dataframe tbody tr th {\n",
       "        vertical-align: top;\n",
       "    }\n",
       "</style>\n",
       "<table border=\"1\" class=\"dataframe\">\n",
       "  <thead>\n",
       "    <tr style=\"text-align: right;\">\n",
       "      <th></th>\n",
       "      <th>month</th>\n",
       "      <th>min_temperature (F)</th>\n",
       "      <th>max_temperature (F)</th>\n",
       "      <th>rainfall (mm)</th>\n",
       "      <th>rainy_days</th>\n",
       "    </tr>\n",
       "  </thead>\n",
       "  <tbody>\n",
       "    <tr>\n",
       "      <th>0</th>\n",
       "      <td>1</td>\n",
       "      <td>57</td>\n",
       "      <td>66</td>\n",
       "      <td>25</td>\n",
       "      <td>9</td>\n",
       "    </tr>\n",
       "    <tr>\n",
       "      <th>1</th>\n",
       "      <td>2</td>\n",
       "      <td>59</td>\n",
       "      <td>68</td>\n",
       "      <td>30</td>\n",
       "      <td>11</td>\n",
       "    </tr>\n",
       "    <tr>\n",
       "      <th>2</th>\n",
       "      <td>3</td>\n",
       "      <td>65</td>\n",
       "      <td>74</td>\n",
       "      <td>40</td>\n",
       "      <td>15</td>\n",
       "    </tr>\n",
       "    <tr>\n",
       "      <th>3</th>\n",
       "      <td>4</td>\n",
       "      <td>72</td>\n",
       "      <td>80</td>\n",
       "      <td>90</td>\n",
       "      <td>13</td>\n",
       "    </tr>\n",
       "    <tr>\n",
       "      <th>4</th>\n",
       "      <td>5</td>\n",
       "      <td>75</td>\n",
       "      <td>89</td>\n",
       "      <td>180</td>\n",
       "      <td>14</td>\n",
       "    </tr>\n",
       "    <tr>\n",
       "      <th>5</th>\n",
       "      <td>6</td>\n",
       "      <td>77</td>\n",
       "      <td>91</td>\n",
       "      <td>240</td>\n",
       "      <td>15</td>\n",
       "    </tr>\n",
       "    <tr>\n",
       "      <th>6</th>\n",
       "      <td>7</td>\n",
       "      <td>77</td>\n",
       "      <td>90</td>\n",
       "      <td>280</td>\n",
       "      <td>16</td>\n",
       "    </tr>\n",
       "    <tr>\n",
       "      <th>7</th>\n",
       "      <td>8</td>\n",
       "      <td>78</td>\n",
       "      <td>90</td>\n",
       "      <td>325</td>\n",
       "      <td>17</td>\n",
       "    </tr>\n",
       "    <tr>\n",
       "      <th>8</th>\n",
       "      <td>9</td>\n",
       "      <td>76</td>\n",
       "      <td>85</td>\n",
       "      <td>270</td>\n",
       "      <td>14</td>\n",
       "    </tr>\n",
       "    <tr>\n",
       "      <th>9</th>\n",
       "      <td>10</td>\n",
       "      <td>72</td>\n",
       "      <td>77</td>\n",
       "      <td>130</td>\n",
       "      <td>9</td>\n",
       "    </tr>\n",
       "    <tr>\n",
       "      <th>10</th>\n",
       "      <td>11</td>\n",
       "      <td>66</td>\n",
       "      <td>77</td>\n",
       "      <td>50</td>\n",
       "      <td>8</td>\n",
       "    </tr>\n",
       "    <tr>\n",
       "      <th>11</th>\n",
       "      <td>12</td>\n",
       "      <td>61</td>\n",
       "      <td>72</td>\n",
       "      <td>30</td>\n",
       "      <td>7</td>\n",
       "    </tr>\n",
       "  </tbody>\n",
       "</table>\n",
       "</div>"
      ],
      "text/plain": [
       "    month  min_temperature (F)  max_temperature (F)  rainfall (mm)  rainy_days\n",
       "0       1                   57                   66             25           9\n",
       "1       2                   59                   68             30          11\n",
       "2       3                   65                   74             40          15\n",
       "3       4                   72                   80             90          13\n",
       "4       5                   75                   89            180          14\n",
       "5       6                   77                   91            240          15\n",
       "6       7                   77                   90            280          16\n",
       "7       8                   78                   90            325          17\n",
       "8       9                   76                   85            270          14\n",
       "9      10                   72                   77            130           9\n",
       "10     11                   66                   77             50           8\n",
       "11     12                   61                   72             30           7"
      ]
     },
     "execution_count": 2,
     "metadata": {},
     "output_type": "execute_result"
    }
   ],
   "source": [
    "df = pd.read_csv('Thời tiết Hà Nội.csv')\n",
    "df"
   ]
  },
  {
   "cell_type": "code",
   "execution_count": 35,
   "metadata": {},
   "outputs": [
    {
     "data": {
      "text/plain": [
       "pandas.core.frame.DataFrame"
      ]
     },
     "execution_count": 35,
     "metadata": {},
     "output_type": "execute_result"
    }
   ],
   "source": [
    "type(df)"
   ]
  },
  {
   "cell_type": "code",
   "execution_count": 3,
   "metadata": {
    "scrolled": false
   },
   "outputs": [
    {
     "data": {
      "text/html": [
       "<div>\n",
       "<style>\n",
       "    .dataframe thead tr:only-child th {\n",
       "        text-align: right;\n",
       "    }\n",
       "\n",
       "    .dataframe thead th {\n",
       "        text-align: left;\n",
       "    }\n",
       "\n",
       "    .dataframe tbody tr th {\n",
       "        vertical-align: top;\n",
       "    }\n",
       "</style>\n",
       "<table border=\"1\" class=\"dataframe\">\n",
       "  <thead>\n",
       "    <tr style=\"text-align: right;\">\n",
       "      <th></th>\n",
       "      <th>month</th>\n",
       "      <th>min_temperature (F)</th>\n",
       "      <th>max_temperature (F)</th>\n",
       "      <th>rainfall (mm)</th>\n",
       "      <th>rainy_days</th>\n",
       "    </tr>\n",
       "  </thead>\n",
       "  <tbody>\n",
       "    <tr>\n",
       "      <th>0</th>\n",
       "      <td>1</td>\n",
       "      <td>57</td>\n",
       "      <td>66</td>\n",
       "      <td>25</td>\n",
       "      <td>9</td>\n",
       "    </tr>\n",
       "    <tr>\n",
       "      <th>1</th>\n",
       "      <td>2</td>\n",
       "      <td>59</td>\n",
       "      <td>68</td>\n",
       "      <td>30</td>\n",
       "      <td>11</td>\n",
       "    </tr>\n",
       "    <tr>\n",
       "      <th>2</th>\n",
       "      <td>3</td>\n",
       "      <td>65</td>\n",
       "      <td>74</td>\n",
       "      <td>40</td>\n",
       "      <td>15</td>\n",
       "    </tr>\n",
       "    <tr>\n",
       "      <th>3</th>\n",
       "      <td>4</td>\n",
       "      <td>72</td>\n",
       "      <td>80</td>\n",
       "      <td>90</td>\n",
       "      <td>13</td>\n",
       "    </tr>\n",
       "    <tr>\n",
       "      <th>4</th>\n",
       "      <td>5</td>\n",
       "      <td>75</td>\n",
       "      <td>89</td>\n",
       "      <td>180</td>\n",
       "      <td>14</td>\n",
       "    </tr>\n",
       "  </tbody>\n",
       "</table>\n",
       "</div>"
      ],
      "text/plain": [
       "   month  min_temperature (F)  max_temperature (F)  rainfall (mm)  rainy_days\n",
       "0      1                   57                   66             25           9\n",
       "1      2                   59                   68             30          11\n",
       "2      3                   65                   74             40          15\n",
       "3      4                   72                   80             90          13\n",
       "4      5                   75                   89            180          14"
      ]
     },
     "execution_count": 3,
     "metadata": {},
     "output_type": "execute_result"
    }
   ],
   "source": [
    "df.head()"
   ]
  },
  {
   "cell_type": "code",
   "execution_count": 4,
   "metadata": {},
   "outputs": [
    {
     "data": {
      "text/html": [
       "<div>\n",
       "<style>\n",
       "    .dataframe thead tr:only-child th {\n",
       "        text-align: right;\n",
       "    }\n",
       "\n",
       "    .dataframe thead th {\n",
       "        text-align: left;\n",
       "    }\n",
       "\n",
       "    .dataframe tbody tr th {\n",
       "        vertical-align: top;\n",
       "    }\n",
       "</style>\n",
       "<table border=\"1\" class=\"dataframe\">\n",
       "  <thead>\n",
       "    <tr style=\"text-align: right;\">\n",
       "      <th></th>\n",
       "      <th>month</th>\n",
       "      <th>min_temperature (F)</th>\n",
       "      <th>max_temperature (F)</th>\n",
       "      <th>rainfall (mm)</th>\n",
       "      <th>rainy_days</th>\n",
       "    </tr>\n",
       "  </thead>\n",
       "  <tbody>\n",
       "    <tr>\n",
       "      <th>9</th>\n",
       "      <td>10</td>\n",
       "      <td>72</td>\n",
       "      <td>77</td>\n",
       "      <td>130</td>\n",
       "      <td>9</td>\n",
       "    </tr>\n",
       "    <tr>\n",
       "      <th>10</th>\n",
       "      <td>11</td>\n",
       "      <td>66</td>\n",
       "      <td>77</td>\n",
       "      <td>50</td>\n",
       "      <td>8</td>\n",
       "    </tr>\n",
       "    <tr>\n",
       "      <th>11</th>\n",
       "      <td>12</td>\n",
       "      <td>61</td>\n",
       "      <td>72</td>\n",
       "      <td>30</td>\n",
       "      <td>7</td>\n",
       "    </tr>\n",
       "  </tbody>\n",
       "</table>\n",
       "</div>"
      ],
      "text/plain": [
       "    month  min_temperature (F)  max_temperature (F)  rainfall (mm)  rainy_days\n",
       "9      10                   72                   77            130           9\n",
       "10     11                   66                   77             50           8\n",
       "11     12                   61                   72             30           7"
      ]
     },
     "execution_count": 4,
     "metadata": {},
     "output_type": "execute_result"
    }
   ],
   "source": [
    "df.tail(3)"
   ]
  },
  {
   "cell_type": "code",
   "execution_count": 5,
   "metadata": {},
   "outputs": [
    {
     "data": {
      "text/plain": [
       "Index(['month', 'min_temperature (F)', 'max_temperature (F)', 'rainfall (mm)',\n",
       "       'rainy_days'],\n",
       "      dtype='object')"
      ]
     },
     "execution_count": 5,
     "metadata": {},
     "output_type": "execute_result"
    }
   ],
   "source": [
    "df.columns"
   ]
  },
  {
   "cell_type": "code",
   "execution_count": 6,
   "metadata": {},
   "outputs": [
    {
     "name": "stdout",
     "output_type": "stream",
     "text": [
      "<class 'pandas.core.frame.DataFrame'>\n",
      "RangeIndex: 12 entries, 0 to 11\n",
      "Data columns (total 5 columns):\n",
      "month                  12 non-null int64\n",
      "min_temperature (F)    12 non-null int64\n",
      "max_temperature (F)    12 non-null int64\n",
      "rainfall (mm)          12 non-null int64\n",
      "rainy_days             12 non-null int64\n",
      "dtypes: int64(5)\n",
      "memory usage: 560.0 bytes\n"
     ]
    }
   ],
   "source": [
    "df.info()"
   ]
  },
  {
   "cell_type": "code",
   "execution_count": 7,
   "metadata": {},
   "outputs": [
    {
     "data": {
      "text/html": [
       "<div>\n",
       "<style>\n",
       "    .dataframe thead tr:only-child th {\n",
       "        text-align: right;\n",
       "    }\n",
       "\n",
       "    .dataframe thead th {\n",
       "        text-align: left;\n",
       "    }\n",
       "\n",
       "    .dataframe tbody tr th {\n",
       "        vertical-align: top;\n",
       "    }\n",
       "</style>\n",
       "<table border=\"1\" class=\"dataframe\">\n",
       "  <thead>\n",
       "    <tr style=\"text-align: right;\">\n",
       "      <th></th>\n",
       "      <th>month</th>\n",
       "      <th>min_temperature (F)</th>\n",
       "      <th>max_temperature (F)</th>\n",
       "      <th>rainfall (mm)</th>\n",
       "      <th>rainy_days</th>\n",
       "    </tr>\n",
       "  </thead>\n",
       "  <tbody>\n",
       "    <tr>\n",
       "      <th>count</th>\n",
       "      <td>12.000000</td>\n",
       "      <td>12.000000</td>\n",
       "      <td>12.000000</td>\n",
       "      <td>12.000000</td>\n",
       "      <td>12.000000</td>\n",
       "    </tr>\n",
       "    <tr>\n",
       "      <th>mean</th>\n",
       "      <td>6.500000</td>\n",
       "      <td>69.583333</td>\n",
       "      <td>79.916667</td>\n",
       "      <td>140.833333</td>\n",
       "      <td>12.333333</td>\n",
       "    </tr>\n",
       "    <tr>\n",
       "      <th>std</th>\n",
       "      <td>3.605551</td>\n",
       "      <td>7.633161</td>\n",
       "      <td>8.969223</td>\n",
       "      <td>112.993027</td>\n",
       "      <td>3.393398</td>\n",
       "    </tr>\n",
       "    <tr>\n",
       "      <th>min</th>\n",
       "      <td>1.000000</td>\n",
       "      <td>57.000000</td>\n",
       "      <td>66.000000</td>\n",
       "      <td>25.000000</td>\n",
       "      <td>7.000000</td>\n",
       "    </tr>\n",
       "    <tr>\n",
       "      <th>25%</th>\n",
       "      <td>3.750000</td>\n",
       "      <td>64.000000</td>\n",
       "      <td>73.500000</td>\n",
       "      <td>37.500000</td>\n",
       "      <td>9.000000</td>\n",
       "    </tr>\n",
       "    <tr>\n",
       "      <th>50%</th>\n",
       "      <td>6.500000</td>\n",
       "      <td>72.000000</td>\n",
       "      <td>78.500000</td>\n",
       "      <td>110.000000</td>\n",
       "      <td>13.500000</td>\n",
       "    </tr>\n",
       "    <tr>\n",
       "      <th>75%</th>\n",
       "      <td>9.250000</td>\n",
       "      <td>76.250000</td>\n",
       "      <td>89.250000</td>\n",
       "      <td>247.500000</td>\n",
       "      <td>15.000000</td>\n",
       "    </tr>\n",
       "    <tr>\n",
       "      <th>max</th>\n",
       "      <td>12.000000</td>\n",
       "      <td>78.000000</td>\n",
       "      <td>91.000000</td>\n",
       "      <td>325.000000</td>\n",
       "      <td>17.000000</td>\n",
       "    </tr>\n",
       "  </tbody>\n",
       "</table>\n",
       "</div>"
      ],
      "text/plain": [
       "           month  min_temperature (F)  max_temperature (F)  rainfall (mm)  \\\n",
       "count  12.000000            12.000000            12.000000      12.000000   \n",
       "mean    6.500000            69.583333            79.916667     140.833333   \n",
       "std     3.605551             7.633161             8.969223     112.993027   \n",
       "min     1.000000            57.000000            66.000000      25.000000   \n",
       "25%     3.750000            64.000000            73.500000      37.500000   \n",
       "50%     6.500000            72.000000            78.500000     110.000000   \n",
       "75%     9.250000            76.250000            89.250000     247.500000   \n",
       "max    12.000000            78.000000            91.000000     325.000000   \n",
       "\n",
       "       rainy_days  \n",
       "count   12.000000  \n",
       "mean    12.333333  \n",
       "std      3.393398  \n",
       "min      7.000000  \n",
       "25%      9.000000  \n",
       "50%     13.500000  \n",
       "75%     15.000000  \n",
       "max     17.000000  "
      ]
     },
     "execution_count": 7,
     "metadata": {},
     "output_type": "execute_result"
    }
   ],
   "source": [
    "df.describe()"
   ]
  },
  {
   "cell_type": "code",
   "execution_count": 10,
   "metadata": {},
   "outputs": [
    {
     "data": {
      "text/plain": [
       "0     True\n",
       "1     True\n",
       "2     True\n",
       "3     True\n",
       "4     True\n",
       "5     True\n",
       "6     True\n",
       "7     True\n",
       "8     True\n",
       "9     True\n",
       "10    True\n",
       "11    True\n",
       "Name: month, dtype: bool"
      ]
     },
     "execution_count": 10,
     "metadata": {},
     "output_type": "execute_result"
    }
   ],
   "source": [
    "# access a column\n",
    "df.month == df['month']"
   ]
  },
  {
   "cell_type": "code",
   "execution_count": 11,
   "metadata": {},
   "outputs": [
    {
     "data": {
      "text/plain": [
       "72"
      ]
     },
     "execution_count": 11,
     "metadata": {},
     "output_type": "execute_result"
    }
   ],
   "source": [
    "# access a particular element\n",
    "df.loc[3]['min_temperature (F)']"
   ]
  },
  {
   "cell_type": "code",
   "execution_count": 12,
   "metadata": {
    "collapsed": true
   },
   "outputs": [],
   "source": [
    "# create new columns from existing columns\n",
    "df['max_temp'] = (df['max_temperature (F)'] - 32 ) / 1.80\n",
    "df['min_temp'] = (df['min_temperature (F)'] - 32 ) / 1.80\n",
    "df['rainfall'] = df['rainfall (mm)'] / 10"
   ]
  },
  {
   "cell_type": "code",
   "execution_count": 13,
   "metadata": {},
   "outputs": [
    {
     "data": {
      "text/html": [
       "<div>\n",
       "<style>\n",
       "    .dataframe thead tr:only-child th {\n",
       "        text-align: right;\n",
       "    }\n",
       "\n",
       "    .dataframe thead th {\n",
       "        text-align: left;\n",
       "    }\n",
       "\n",
       "    .dataframe tbody tr th {\n",
       "        vertical-align: top;\n",
       "    }\n",
       "</style>\n",
       "<table border=\"1\" class=\"dataframe\">\n",
       "  <thead>\n",
       "    <tr style=\"text-align: right;\">\n",
       "      <th></th>\n",
       "      <th>month</th>\n",
       "      <th>min_temperature (F)</th>\n",
       "      <th>max_temperature (F)</th>\n",
       "      <th>rainfall (mm)</th>\n",
       "      <th>rainy_days</th>\n",
       "      <th>max_temp</th>\n",
       "      <th>min_temp</th>\n",
       "      <th>rainfall</th>\n",
       "    </tr>\n",
       "  </thead>\n",
       "  <tbody>\n",
       "    <tr>\n",
       "      <th>0</th>\n",
       "      <td>1</td>\n",
       "      <td>57</td>\n",
       "      <td>66</td>\n",
       "      <td>25</td>\n",
       "      <td>9</td>\n",
       "      <td>18.888889</td>\n",
       "      <td>13.888889</td>\n",
       "      <td>2.5</td>\n",
       "    </tr>\n",
       "    <tr>\n",
       "      <th>1</th>\n",
       "      <td>2</td>\n",
       "      <td>59</td>\n",
       "      <td>68</td>\n",
       "      <td>30</td>\n",
       "      <td>11</td>\n",
       "      <td>20.000000</td>\n",
       "      <td>15.000000</td>\n",
       "      <td>3.0</td>\n",
       "    </tr>\n",
       "    <tr>\n",
       "      <th>2</th>\n",
       "      <td>3</td>\n",
       "      <td>65</td>\n",
       "      <td>74</td>\n",
       "      <td>40</td>\n",
       "      <td>15</td>\n",
       "      <td>23.333333</td>\n",
       "      <td>18.333333</td>\n",
       "      <td>4.0</td>\n",
       "    </tr>\n",
       "    <tr>\n",
       "      <th>3</th>\n",
       "      <td>4</td>\n",
       "      <td>72</td>\n",
       "      <td>80</td>\n",
       "      <td>90</td>\n",
       "      <td>13</td>\n",
       "      <td>26.666667</td>\n",
       "      <td>22.222222</td>\n",
       "      <td>9.0</td>\n",
       "    </tr>\n",
       "    <tr>\n",
       "      <th>4</th>\n",
       "      <td>5</td>\n",
       "      <td>75</td>\n",
       "      <td>89</td>\n",
       "      <td>180</td>\n",
       "      <td>14</td>\n",
       "      <td>31.666667</td>\n",
       "      <td>23.888889</td>\n",
       "      <td>18.0</td>\n",
       "    </tr>\n",
       "    <tr>\n",
       "      <th>5</th>\n",
       "      <td>6</td>\n",
       "      <td>77</td>\n",
       "      <td>91</td>\n",
       "      <td>240</td>\n",
       "      <td>15</td>\n",
       "      <td>32.777778</td>\n",
       "      <td>25.000000</td>\n",
       "      <td>24.0</td>\n",
       "    </tr>\n",
       "    <tr>\n",
       "      <th>6</th>\n",
       "      <td>7</td>\n",
       "      <td>77</td>\n",
       "      <td>90</td>\n",
       "      <td>280</td>\n",
       "      <td>16</td>\n",
       "      <td>32.222222</td>\n",
       "      <td>25.000000</td>\n",
       "      <td>28.0</td>\n",
       "    </tr>\n",
       "    <tr>\n",
       "      <th>7</th>\n",
       "      <td>8</td>\n",
       "      <td>78</td>\n",
       "      <td>90</td>\n",
       "      <td>325</td>\n",
       "      <td>17</td>\n",
       "      <td>32.222222</td>\n",
       "      <td>25.555556</td>\n",
       "      <td>32.5</td>\n",
       "    </tr>\n",
       "    <tr>\n",
       "      <th>8</th>\n",
       "      <td>9</td>\n",
       "      <td>76</td>\n",
       "      <td>85</td>\n",
       "      <td>270</td>\n",
       "      <td>14</td>\n",
       "      <td>29.444444</td>\n",
       "      <td>24.444444</td>\n",
       "      <td>27.0</td>\n",
       "    </tr>\n",
       "    <tr>\n",
       "      <th>9</th>\n",
       "      <td>10</td>\n",
       "      <td>72</td>\n",
       "      <td>77</td>\n",
       "      <td>130</td>\n",
       "      <td>9</td>\n",
       "      <td>25.000000</td>\n",
       "      <td>22.222222</td>\n",
       "      <td>13.0</td>\n",
       "    </tr>\n",
       "    <tr>\n",
       "      <th>10</th>\n",
       "      <td>11</td>\n",
       "      <td>66</td>\n",
       "      <td>77</td>\n",
       "      <td>50</td>\n",
       "      <td>8</td>\n",
       "      <td>25.000000</td>\n",
       "      <td>18.888889</td>\n",
       "      <td>5.0</td>\n",
       "    </tr>\n",
       "    <tr>\n",
       "      <th>11</th>\n",
       "      <td>12</td>\n",
       "      <td>61</td>\n",
       "      <td>72</td>\n",
       "      <td>30</td>\n",
       "      <td>7</td>\n",
       "      <td>22.222222</td>\n",
       "      <td>16.111111</td>\n",
       "      <td>3.0</td>\n",
       "    </tr>\n",
       "  </tbody>\n",
       "</table>\n",
       "</div>"
      ],
      "text/plain": [
       "    month  min_temperature (F)  max_temperature (F)  rainfall (mm)  \\\n",
       "0       1                   57                   66             25   \n",
       "1       2                   59                   68             30   \n",
       "2       3                   65                   74             40   \n",
       "3       4                   72                   80             90   \n",
       "4       5                   75                   89            180   \n",
       "5       6                   77                   91            240   \n",
       "6       7                   77                   90            280   \n",
       "7       8                   78                   90            325   \n",
       "8       9                   76                   85            270   \n",
       "9      10                   72                   77            130   \n",
       "10     11                   66                   77             50   \n",
       "11     12                   61                   72             30   \n",
       "\n",
       "    rainy_days   max_temp   min_temp  rainfall  \n",
       "0            9  18.888889  13.888889       2.5  \n",
       "1           11  20.000000  15.000000       3.0  \n",
       "2           15  23.333333  18.333333       4.0  \n",
       "3           13  26.666667  22.222222       9.0  \n",
       "4           14  31.666667  23.888889      18.0  \n",
       "5           15  32.777778  25.000000      24.0  \n",
       "6           16  32.222222  25.000000      28.0  \n",
       "7           17  32.222222  25.555556      32.5  \n",
       "8           14  29.444444  24.444444      27.0  \n",
       "9            9  25.000000  22.222222      13.0  \n",
       "10           8  25.000000  18.888889       5.0  \n",
       "11           7  22.222222  16.111111       3.0  "
      ]
     },
     "execution_count": 13,
     "metadata": {},
     "output_type": "execute_result"
    }
   ],
   "source": [
    "df"
   ]
  },
  {
   "cell_type": "code",
   "execution_count": 14,
   "metadata": {},
   "outputs": [
    {
     "data": {
      "text/html": [
       "<div>\n",
       "<style>\n",
       "    .dataframe thead tr:only-child th {\n",
       "        text-align: right;\n",
       "    }\n",
       "\n",
       "    .dataframe thead th {\n",
       "        text-align: left;\n",
       "    }\n",
       "\n",
       "    .dataframe tbody tr th {\n",
       "        vertical-align: top;\n",
       "    }\n",
       "</style>\n",
       "<table border=\"1\" class=\"dataframe\">\n",
       "  <thead>\n",
       "    <tr style=\"text-align: right;\">\n",
       "      <th></th>\n",
       "      <th>month</th>\n",
       "      <th>max_temp</th>\n",
       "      <th>min_temp</th>\n",
       "      <th>rainfall</th>\n",
       "      <th>rainy_days</th>\n",
       "    </tr>\n",
       "  </thead>\n",
       "  <tbody>\n",
       "    <tr>\n",
       "      <th>0</th>\n",
       "      <td>1</td>\n",
       "      <td>18.888889</td>\n",
       "      <td>13.888889</td>\n",
       "      <td>2.5</td>\n",
       "      <td>9</td>\n",
       "    </tr>\n",
       "    <tr>\n",
       "      <th>1</th>\n",
       "      <td>2</td>\n",
       "      <td>20.000000</td>\n",
       "      <td>15.000000</td>\n",
       "      <td>3.0</td>\n",
       "      <td>11</td>\n",
       "    </tr>\n",
       "    <tr>\n",
       "      <th>2</th>\n",
       "      <td>3</td>\n",
       "      <td>23.333333</td>\n",
       "      <td>18.333333</td>\n",
       "      <td>4.0</td>\n",
       "      <td>15</td>\n",
       "    </tr>\n",
       "    <tr>\n",
       "      <th>3</th>\n",
       "      <td>4</td>\n",
       "      <td>26.666667</td>\n",
       "      <td>22.222222</td>\n",
       "      <td>9.0</td>\n",
       "      <td>13</td>\n",
       "    </tr>\n",
       "    <tr>\n",
       "      <th>4</th>\n",
       "      <td>5</td>\n",
       "      <td>31.666667</td>\n",
       "      <td>23.888889</td>\n",
       "      <td>18.0</td>\n",
       "      <td>14</td>\n",
       "    </tr>\n",
       "    <tr>\n",
       "      <th>5</th>\n",
       "      <td>6</td>\n",
       "      <td>32.777778</td>\n",
       "      <td>25.000000</td>\n",
       "      <td>24.0</td>\n",
       "      <td>15</td>\n",
       "    </tr>\n",
       "    <tr>\n",
       "      <th>6</th>\n",
       "      <td>7</td>\n",
       "      <td>32.222222</td>\n",
       "      <td>25.000000</td>\n",
       "      <td>28.0</td>\n",
       "      <td>16</td>\n",
       "    </tr>\n",
       "    <tr>\n",
       "      <th>7</th>\n",
       "      <td>8</td>\n",
       "      <td>32.222222</td>\n",
       "      <td>25.555556</td>\n",
       "      <td>32.5</td>\n",
       "      <td>17</td>\n",
       "    </tr>\n",
       "    <tr>\n",
       "      <th>8</th>\n",
       "      <td>9</td>\n",
       "      <td>29.444444</td>\n",
       "      <td>24.444444</td>\n",
       "      <td>27.0</td>\n",
       "      <td>14</td>\n",
       "    </tr>\n",
       "    <tr>\n",
       "      <th>9</th>\n",
       "      <td>10</td>\n",
       "      <td>25.000000</td>\n",
       "      <td>22.222222</td>\n",
       "      <td>13.0</td>\n",
       "      <td>9</td>\n",
       "    </tr>\n",
       "    <tr>\n",
       "      <th>10</th>\n",
       "      <td>11</td>\n",
       "      <td>25.000000</td>\n",
       "      <td>18.888889</td>\n",
       "      <td>5.0</td>\n",
       "      <td>8</td>\n",
       "    </tr>\n",
       "    <tr>\n",
       "      <th>11</th>\n",
       "      <td>12</td>\n",
       "      <td>22.222222</td>\n",
       "      <td>16.111111</td>\n",
       "      <td>3.0</td>\n",
       "      <td>7</td>\n",
       "    </tr>\n",
       "  </tbody>\n",
       "</table>\n",
       "</div>"
      ],
      "text/plain": [
       "    month   max_temp   min_temp  rainfall  rainy_days\n",
       "0       1  18.888889  13.888889       2.5           9\n",
       "1       2  20.000000  15.000000       3.0          11\n",
       "2       3  23.333333  18.333333       4.0          15\n",
       "3       4  26.666667  22.222222       9.0          13\n",
       "4       5  31.666667  23.888889      18.0          14\n",
       "5       6  32.777778  25.000000      24.0          15\n",
       "6       7  32.222222  25.000000      28.0          16\n",
       "7       8  32.222222  25.555556      32.5          17\n",
       "8       9  29.444444  24.444444      27.0          14\n",
       "9      10  25.000000  22.222222      13.0           9\n",
       "10     11  25.000000  18.888889       5.0           8\n",
       "11     12  22.222222  16.111111       3.0           7"
      ]
     },
     "execution_count": 14,
     "metadata": {},
     "output_type": "execute_result"
    }
   ],
   "source": [
    "# create a new dataframe\n",
    "df2 = df[['month', 'max_temp', 'min_temp', 'rainfall', 'rainy_days']]\n",
    "df2"
   ]
  },
  {
   "cell_type": "code",
   "execution_count": 36,
   "metadata": {},
   "outputs": [
    {
     "data": {
      "image/png": "[encoded data removed]",
      "text/plain": [
       "<matplotlib.figure.Figure at 0x117945eb8>"
      ]
     },
     "metadata": {},
     "output_type": "display_data"
    }
   ],
   "source": [
    "plt.plot(df2.month, df2.rainy_days)\n",
    "plt.show()"
   ]
  },
  {
   "cell_type": "code",
   "execution_count": 23,
   "metadata": {},
   "outputs": [
    {
     "data": {
      "text/plain": [
       "<matplotlib.axes._subplots.AxesSubplot at 0x117187668>"
      ]
     },
     "execution_count": 23,
     "metadata": {},
     "output_type": "execute_result"
    }
   ],
   "source": [
    "df2.plot()"
   ]
  },
  {
   "cell_type": "code",
   "execution_count": 24,
   "metadata": {},
   "outputs": [
    {
     "data": {
      "image/png": "[encoded data removed]",
      "text/plain": [
       "<matplotlib.figure.Figure at 0x1171825f8>"
      ]
     },
     "metadata": {},
     "output_type": "display_data"
    }
   ],
   "source": [
    "plt.show()"
   ]
  },
  {
   "cell_type": "code",
   "execution_count": 34,
   "metadata": {},
   "outputs": [
    {
     "data": {
      "image/png": "[encoded data removed]",
      "text/plain": [
       "<matplotlib.figure.Figure at 0x117432d30>"
      ]
     },
     "metadata": {},
     "output_type": "display_data"
    }
   ],
   "source": [
    "df2.drop('month', axis=1).plot()\n",
    "plt.show()"
   ]
  },
  {
   "cell_type": "markdown",
   "metadata": {},
   "source": [
    "Pandas tutorial: http://pandas.pydata.org/pandas-docs/stable/10min.html \n"
   ]
  }
 ],
 "metadata": {
  "kernelspec": {
   "display_name": "Python 3",
   "language": "python",
   "name": "python3"
  },
  "language_info": {
   "codemirror_mode": {
    "name": "ipython",
    "version": 3
   },
   "file_extension": ".py",
   "mimetype": "text/x-python",
   "name": "python",
   "nbconvert_exporter": "python",
   "pygments_lexer": "ipython3",
   "version": "3.6.1"
  }
 },
 "nbformat": 4,
 "nbformat_minor": 2
}
